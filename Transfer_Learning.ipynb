{
 "cells": [
  {
   "cell_type": "code",
   "execution_count": 1,
   "metadata": {},
   "outputs": [
    {
     "name": "stderr",
     "output_type": "stream",
     "text": [
      "Using TensorFlow backend.\n"
     ]
    }
   ],
   "source": [
    "from __future__ import print_function\n",
    "import keras\n",
    "from keras.datasets import mnist, cifar10\n",
    "from keras.layers import Dense, Flatten\n",
    "from keras.layers import Conv2D, MaxPooling2D\n",
    "from keras.models import Sequential\n",
    "#Importing the ResNet50 model\n",
    "from keras.applications.resnet50 import ResNet50, preprocess_input\n",
    "\n",
    "from scipy.misc import imread, imsave, imresize\n",
    "\n",
    "import matplotlib.pylab as plt\n",
    "import numpy as np \n",
    "\n",
    "# load the data already splits into train and test data sets\n",
    "(x_train, y_train), (x_test, y_test) = cifar10.load_data()\n",
    "\n",
    "# input image dimensions\n",
    "img_x, img_y, channels = 32, 32, 3\n",
    "\n",
    "keras.backend.set_image_data_format('channels_last')\n",
    "input_shape = (img_x, img_y, channels)\n",
    "# reshape the data into a 4D tensor - (sample_number, x_img_size, y_img_size, num_channels)\n",
    "x_train = x_train.reshape(x_train.shape[0], img_x, img_y, channels)\n",
    "x_test = x_test.reshape(x_test.shape[0], img_x, img_y, channels)\n",
    "\n",
    "cifar10_labels={\n",
    "    0: \"airplane\", \n",
    "    1: \"automobile\", \n",
    "    2: \"bird\",\n",
    "    3: \"cat\",\n",
    "    4: \"deer\",\n",
    "    5: \"dog\",\n",
    "    6: \"frog\",\n",
    "    7: \"horse\",\n",
    "    8: \"ship\",\n",
    "    9: \"truck\"\n",
    "}\n",
    "\n",
    "num_classes = len(cifar10_labels)\n",
    "\n",
    "# convert class vectors to binary class matrices for categorical_crossentropy loss\n",
    "# convert class vectors to binary class matrices for categorical_crossentropy loss\n",
    "y_train = keras.utils.to_categorical(y_train, num_classes)\n",
    "y_test = keras.utils.to_categorical(y_test, num_classes)"
   ]
  },
  {
   "cell_type": "code",
   "execution_count": 2,
   "metadata": {},
   "outputs": [],
   "source": [
    "# TODO: Convert the images (x_train and x_test) to float32\n",
    "x_train_con = x_train.astype('float32')\n",
    "x_test_con = x_test.astype('float32')\n",
    "#x_train_con"
   ]
  },
  {
   "cell_type": "code",
   "execution_count": 3,
   "metadata": {},
   "outputs": [],
   "source": [
    "# TODO: Scale the pixel values (x_train and x_test) from range 0..255 to 0..1\n",
    "x_Train = x_train_con / 255\n",
    "x_Test = x_test_con / 255\n",
    "#x_Train"
   ]
  },
  {
   "cell_type": "code",
   "execution_count": 4,
   "metadata": {},
   "outputs": [],
   "source": [
    "\n",
    "\n",
    "#Loading the ResNet50 model with pre-trained ImageNet weights\n",
    "model = ResNet50(weights='imagenet', include_top=False, input_shape=(200, 200, 3))"
   ]
  },
  {
   "cell_type": "code",
   "execution_count": 7,
   "metadata": {},
   "outputs": [],
   "source": [
    "#Reshaping the training data to suits to the ResNet model so we converting 32X32X3 dimensions to( 200X200X3 )\n",
    "\n",
    "\n",
    "# Implemented the conversion to first 5000 training samples and 1000 test samples due to my computer computational power \n",
    "#X_train_new = np.array([imresize(x_Train[i], (200, 200, 3)) for i in range(0, len(x_Train))]).astype('float32')\n",
    "#X_test_new = np.array([imresize(x_Test[i], (200, 200, 3)) for i in range(0, len(x_Test))]).astype('float32')\n",
    "X_train_new = np.array([imresize(x_Train[i], (200, 200, 3)) for i in range(0, 5000)]).astype('float32')\n",
    "X_test_new = np.array([imresize(x_Test[i], (200, 200, 3)) for i in range(0, 1000)]).astype('float32')"
   ]
  },
  {
   "cell_type": "code",
   "execution_count": 19,
   "metadata": {},
   "outputs": [],
   "source": [
    "#Y_train_new = (y_train[i] for i in range(0, 5000))\n",
    "#Y_test_new =  (y_test[i] for i in range(0, 1000))\n",
    "# If computation capability of the laptop is less please go with 5000 samples for training and 1000 samples for testing\n",
    "#Y_train_new = y_train[:5000] \n",
    "#Y_test_new =  y_test[:1000]\n",
    "Y_train_new = y_train\n",
    "Y_test_new =  y_test"
   ]
  },
  {
   "cell_type": "code",
   "execution_count": 11,
   "metadata": {},
   "outputs": [],
   "source": [
    "#Preprocessing the data, so that it can be fed to the pre-trained ResNet50 model. \n",
    "resnet_train_input = preprocess_input(X_train_new)\n",
    "resnet_test_input = preprocess_input(X_test_new)\n",
    "\n",
    "#Creating bottleneck features for the training data using the Resenet \n",
    "train_features = model.predict(resnet_train_input)\n",
    "test_features = model.predict(resnet_test_input)\n"
   ]
  },
  {
   "cell_type": "code",
   "execution_count": 14,
   "metadata": {},
   "outputs": [
    {
     "name": "stdout",
     "output_type": "stream",
     "text": [
      "_________________________________________________________________\n",
      "Layer (type)                 Output Shape              Param #   \n",
      "=================================================================\n",
      "global_average_pooling2d_2 ( (None, 2048)              0         \n",
      "_________________________________________________________________\n",
      "dropout_1 (Dropout)          (None, 2048)              0         \n",
      "_________________________________________________________________\n",
      "dense_1 (Dense)              (None, 10)                20490     \n",
      "=================================================================\n",
      "Total params: 20,490\n",
      "Trainable params: 20,490\n",
      "Non-trainable params: 0\n",
      "_________________________________________________________________\n"
     ]
    }
   ],
   "source": [
    "from keras.layers import GlobalAveragePooling2D, Dropout\n",
    "model = Sequential()\n",
    "model.add(GlobalAveragePooling2D(input_shape=train_features.shape[1:]))\n",
    "model.add(Dropout(0.3))\n",
    "model.add(Dense(num_classes , activation='softmax'))\n",
    "model.summary()"
   ]
  },
  {
   "cell_type": "code",
   "execution_count": 20,
   "metadata": {},
   "outputs": [
    {
     "name": "stdout",
     "output_type": "stream",
     "text": [
      "Train on 5000 samples, validate on 1000 samples\n",
      "Epoch 1/10\n",
      "5000/5000 [==============================] - 2s - loss: 1.0794 - acc: 0.6300 - val_loss: 0.5288 - val_acc: 0.8230\n",
      "Epoch 2/10\n",
      "5000/5000 [==============================] - 0s - loss: 0.4912 - acc: 0.8328 - val_loss: 0.4301 - val_acc: 0.8530\n",
      "Epoch 3/10\n",
      "5000/5000 [==============================] - 0s - loss: 0.3921 - acc: 0.8694 - val_loss: 0.4197 - val_acc: 0.8510\n",
      "Epoch 4/10\n",
      "5000/5000 [==============================] - 0s - loss: 0.3380 - acc: 0.8886 - val_loss: 0.3970 - val_acc: 0.8590\n",
      "Epoch 5/10\n",
      "5000/5000 [==============================] - 0s - loss: 0.2984 - acc: 0.8994 - val_loss: 0.3767 - val_acc: 0.8690\n",
      "Epoch 6/10\n",
      "5000/5000 [==============================] - 0s - loss: 0.2683 - acc: 0.9090 - val_loss: 0.3804 - val_acc: 0.8560\n",
      "Epoch 7/10\n",
      "5000/5000 [==============================] - 0s - loss: 0.2464 - acc: 0.9192 - val_loss: 0.3677 - val_acc: 0.8670\n",
      "Epoch 8/10\n",
      "5000/5000 [==============================] - 0s - loss: 0.2189 - acc: 0.9314 - val_loss: 0.3653 - val_acc: 0.8740\n",
      "Epoch 9/10\n",
      "5000/5000 [==============================] - 0s - loss: 0.2103 - acc: 0.9290 - val_loss: 0.3631 - val_acc: 0.8720\n",
      "Epoch 10/10\n",
      "5000/5000 [==============================] - 0s - loss: 0.1989 - acc: 0.9366 - val_loss: 0.3582 - val_acc: 0.8710\n"
     ]
    }
   ],
   "source": [
    "model.compile(optimizer='adam', loss='categorical_crossentropy', metrics=['accuracy'])\n",
    "history=model.fit(train_features, Y_train_new, validation_data=(test_features , Y_test_new),  batch_size=64,epochs=10)"
   ]
  },
  {
   "cell_type": "code",
   "execution_count": 22,
   "metadata": {},
   "outputs": [
    {
     "data": {
      "image/png": "[encoded data removed]",
      "text/plain": [
       "<Figure size 432x288 with 1 Axes>"
      ]
     },
     "metadata": {
      "needs_background": "light"
     },
     "output_type": "display_data"
    }
   ],
   "source": [
    "plt.plot(history.history['acc'])\n",
    "plt.plot(history.history['val_acc'])\n",
    "plt.title('model accuracy')\n",
    "plt.ylabel('accuracy')\n",
    "plt.xlabel('epoch')\n",
    "plt.legend(['train', 'Val'], loc='upper left')\n",
    "plt.show()\n"
   ]
  }
 ],
 "metadata": {
  "kernelspec": {
   "display_name": "Python 3",
   "language": "python",
   "name": "python3"
  },
  "language_info": {
   "codemirror_mode": {
    "name": "ipython",
    "version": 3
   },
   "file_extension": ".py",
   "mimetype": "text/x-python",
   "name": "python",
   "nbconvert_exporter": "python",
   "pygments_lexer": "ipython3",
   "version": "3.5.3rc1"
  }
 },
 "nbformat": 4,
 "nbformat_minor": 2
}
